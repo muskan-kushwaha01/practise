{
  "metadata": {
    "kernelspec": {
      "name": "xpython",
      "display_name": "Python 3.13 (XPython)",
      "language": "python"
    },
    "language_info": {
      "file_extension": ".py",
      "mimetype": "text/x-python",
      "name": "python",
      "version": "3.13.1"
    }
  },
  "nbformat_minor": 5,
  "nbformat": 4,
  "cells": [
    {
      "id": "ef9955b1-713d-4f66-bdef-829c94cfb39d",
      "cell_type": "code",
      "source": "import numpy as np\nmed=np.array([1000,3400,500,150])\ngsry=np.array([570,1300,200,60])\nclth=np.array([500,1200,4000,600])\nfood=np.array([150,300,450,800])\nhouse=np.array([1000,1500,800,910])\ntravel=np.array([500,300,1000,5000])\n\nprint(\"\\t\\tExpense Tracker\")\nprint(f\"Total Expense: {med.sum()+gsry.sum()+clth.sum()+food.sum()+house.sum()+travel.sum()}\")\nsum_arr=np.array([med.sum(),gsry.sum(),clth.sum(),food.sum(),house.sum(),travel.sum()])\n#print(sum_arr)\n\nhigh=0\nlow=med.sum()\nfor i in sum_arr:\n    if(high<i):\n        high=i\n    if (low>i):\n        low=i\n        \nif high == med.sum():\n    print(f\"Cateogory Medicine has Highest Expense: {high}\")\nelif high==gsry.sum():\n    print(f\"Cateogory Grosary has Highest Expense: {high}\")\nelif high==clth.sum():\n    print(f\"Cateogory Cloths has Highest Expense: {high}\")\nelif high==food.sum():\n    print(f\"Cateogory food has Highest Expense: {high}\")\nelif high==house.sum():\n    print(f\"Cateogory House has Highest Expense: {high}\")\nelse:\n    print(f\"Cateogory Travelling has Highest Expense: {high}\")\n \n# lowest expense\n\nif low == med.sum():\n    print(f\"Cateogory Medicine has Lowest Expense: {low}\")\nelif low==gsry.sum():\n    print(f\"Cateogory Grosary has Lowest Expense: {low}\")\nelif low==clth.sum():\n    print(f\"Cateogory Cloths has Lowest Expense: {low}\")\nelif low==food.sum():\n    print(f\"Cateogory food has Lowest Expense: {low}\")\nelif low==house.sum():\n    print(f\"Cateogory House has Lowest Expense: {low}\")\nelse:\n    print(f\"Cateogory Travelling has Lowest Expense: {low}\")\n\nprint(f\"Average expense: {sum_arr.sum() / len(sum_arr)}\")",
      "metadata": {
        "trusted": true
      },
      "outputs": [
        {
          "name": "stdout",
          "output_type": "stream",
          "text": "\t\tExpense Tracker\nTotal Expense: 26190\nCateogory Travelling has Highest Expense: 6800\nCateogory food has Lowest Expense: 1700\nAverage expense: 4365.0\n"
        }
      ],
      "execution_count": 13
    },
    {
      "id": "bc8d259c-4636-4306-8d91-403b624a843a",
      "cell_type": "code",
      "source": "",
      "metadata": {
        "trusted": true
      },
      "outputs": [],
      "execution_count": null
    }
  ]
}