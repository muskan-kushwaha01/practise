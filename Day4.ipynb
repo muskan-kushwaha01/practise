{
  "metadata": {
    "kernelspec": {
      "name": "xpython",
      "display_name": "Python 3.13 (XPython)",
      "language": "python"
    },
    "language_info": {
      "file_extension": ".py",
      "mimetype": "text/x-python",
      "name": "python",
      "version": "3.13.1"
    }
  },
  "nbformat_minor": 5,
  "nbformat": 4,
  "cells": [
    {
      "id": "a7318482-59d5-4224-b16d-0628dd187462",
      "cell_type": "code",
      "source": "import numpy as np\narr=np.array([1,2,3])\narr1=np.array([4,5,6])\nprint(arr1+arr)\nprint(arr*arr1)\nprint(arr**3)\nprint(np.sqrt(arr))\nprint(arr.sum())\nprint(np.sum(arr))\nprint(arr[2]+arr1[1])",
      "metadata": {
        "trusted": true
      },
      "outputs": [
        {
          "name": "stdout",
          "output_type": "stream",
          "text": "[5 7 9]\n[ 4 10 18]\n[ 1  8 27]\n[1.         1.41421356 1.73205081]\n6\n6\n8\n"
        }
      ],
      "execution_count": 4
    },
    {
      "id": "acd2d954-0a3a-4e31-bac8-c52f9e4d09fc",
      "cell_type": "code",
      "source": "a=np.array([[10,20,30],[40,50,60]])\nprint(a)\nprint(a[0,1])\nprint(a[1,::-1])\nprint(a[0,0:1])\nprint(a[:1,1])\nprint(a[0,:2])",
      "metadata": {
        "trusted": true
      },
      "outputs": [
        {
          "name": "stdout",
          "output_type": "stream",
          "text": "[[10 20 30]\n [40 50 60]]\n20\n[60 50 40]\n[10]\n[20]\n[10 20]\n"
        }
      ],
      "execution_count": 5
    },
    {
      "id": "76ac9fa6-d5b1-4add-a6b2-52bb93565d89",
      "cell_type": "code",
      "source": "#a=np.array([[10,20,30],[40,50,60]])\na=np.array([['d','a'],['c','y']])\nprint(a.ndim)\nprint(a.shape)\nprint(a.size)\nprint(a.dtype)\nprint(a.itemsize)\n",
      "metadata": {
        "trusted": true
      },
      "outputs": [
        {
          "name": "stdout",
          "output_type": "stream",
          "text": "2\n(2, 2)\n4\n<U1\n4\n"
        }
      ],
      "execution_count": 12
    },
    {
      "id": "31461e54-32de-4e61-85e6-4c5f174a8b8e",
      "cell_type": "code",
      "source": "a=np.array([[10,20,30],[40,50,60]])\nprint(a.sum())\nprint(a.sum(axis=0))\nprint(a.sum(axis=1))\nprint(a.min())\nprint(a.max())\n#print(a.median())\nprint(a.mean())\n#print(a.mode())\nprint(a.std())",
      "metadata": {
        "trusted": true
      },
      "outputs": [
        {
          "name": "stdout",
          "output_type": "stream",
          "text": "210\n[50 70 90]\n[ 60 150]\n10\n60\n35.0\n17.07825127659933\n"
        }
      ],
      "execution_count": 15
    },
    {
      "id": "05aba2dc-589c-473b-86a7-efa7a4ef3d46",
      "cell_type": "code",
      "source": "print(np.zeros((2,3)))\nprint(np.ones((3,3)))\nprint(np.eye(3))\nprint(np.full((2,2),7))\nprint(np.arange(0,10,2))\nprint(np.linspace(0,1,5))\nprint(np.random.rand(2,2))\nprint(np.random.randint(1,10,(3,2)))",
      "metadata": {
        "trusted": true
      },
      "outputs": [
        {
          "name": "stdout",
          "output_type": "stream",
          "text": "[[0. 0. 0.]\n [0. 0. 0.]]\n[[1. 1. 1.]\n [1. 1. 1.]\n [1. 1. 1.]]\n[[1. 0. 0.]\n [0. 1. 0.]\n [0. 0. 1.]]\n[[7 7]\n [7 7]]\n[0 2 4 6 8]\n[0.   0.25 0.5  0.75 1.  ]\n[[0.0975074  0.37275223]\n [0.49549685 0.61438023]]\n[[9 5]\n [2 3]\n [4 8]]\n"
        }
      ],
      "execution_count": 26
    },
    {
      "id": "a45e3585-fbf2-4acd-ae44-5bd7bdaa8b2d",
      "cell_type": "code",
      "source": "a=np.array([[1,2],[3,4]])\nb=np.array([[6,7],[8,9]])\nprint(np.dot(a,b))\nprint(np.transpose(a))",
      "metadata": {
        "trusted": true
      },
      "outputs": [
        {
          "name": "stdout",
          "output_type": "stream",
          "text": "[[22 25]\n [50 57]]\n[[1 3]\n [2 4]]\n"
        }
      ],
      "execution_count": 28
    },
    {
      "id": "2f404bce-351f-4a17-b539-376b37c61658",
      "cell_type": "code",
      "source": "a=np.array([[1,2],[3,4]])\nfor index,val in enumerate(a):\n    for index,val in enumerate(val):\n        print(f\"index: {index} value: {val}\")",
      "metadata": {
        "trusted": true
      },
      "outputs": [
        {
          "name": "stdout",
          "output_type": "stream",
          "text": "index: 0 value: 1\nindex: 1 value: 2\nindex: 0 value: 3\nindex: 1 value: 4\n"
        }
      ],
      "execution_count": 39
    },
    {
      "id": "af1f8fcf-8a42-489a-98df-901a05363fa6",
      "cell_type": "code",
      "source": "str=\"dataScience\"\nfor index,char in enumerate(str):\n    print(f\"index: {index} char: {char}\")",
      "metadata": {
        "trusted": true
      },
      "outputs": [
        {
          "name": "stdout",
          "output_type": "stream",
          "text": "index: 0 char: d\nindex: 1 char: a\nindex: 2 char: t\nindex: 3 char: a\nindex: 4 char: S\nindex: 5 char: c\nindex: 6 char: i\nindex: 7 char: e\nindex: 8 char: n\nindex: 9 char: c\nindex: 10 char: e\n"
        }
      ],
      "execution_count": 31
    },
    {
      "id": "2dbc052a-1d7a-422c-9689-933bf5c098ba",
      "cell_type": "code",
      "source": "a=np.array([[[1,2],[3,4]]])\n\nfor i in np.nditer(a):\n    print(i)\n",
      "metadata": {
        "trusted": true
      },
      "outputs": [
        {
          "name": "stdout",
          "output_type": "stream",
          "text": "1\n2\n3\n4\n"
        }
      ],
      "execution_count": 33
    },
    {
      "id": "28af8134-ddce-459d-b734-e1cae4e758c8",
      "cell_type": "code",
      "source": "",
      "metadata": {
        "trusted": true
      },
      "outputs": [],
      "execution_count": null
    }
  ]
}