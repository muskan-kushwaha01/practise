{
 "cells": [
  {
   "cell_type": "code",
   "execution_count": 7,
   "id": "9023f53b-9c8e-4ed0-81df-2e599590b3a2",
   "metadata": {},
   "outputs": [
    {
     "name": "stdout",
     "output_type": "stream",
     "text": [
      "\t\t\t\t\t\t Welcome To AXIS Bank\n"
     ]
    },
    {
     "name": "stdin",
     "output_type": "stream",
     "text": [
      "Insert your Card:  card\n"
     ]
    },
    {
     "name": "stdout",
     "output_type": "stream",
     "text": [
      "Welcome\n"
     ]
    },
    {
     "name": "stdin",
     "output_type": "stream",
     "text": [
      "Enter Pin: 123\n"
     ]
    },
    {
     "name": "stdout",
     "output_type": "stream",
     "text": [
      "Press: \n",
      "\t\t\t\t\t\t 1. Check Balance\n",
      "\t\t\t\t\t\t 2.Withdraw Amount\n",
      "\t\t\t\t\t\t 3. Deposit Amount\n"
     ]
    },
    {
     "name": "stdin",
     "output_type": "stream",
     "text": [
      "Enter your choice:  2\n",
      "Enter the amount to withdraw:  1900\n"
     ]
    },
    {
     "name": "stdout",
     "output_type": "stream",
     "text": [
      "Withdrawn Successfully !\n",
      " Your current Balance: 8100\n"
     ]
    }
   ],
   "source": [
    "amt= 10000\n",
    "pin = \"123\"\n",
    "\n",
    "def bal(amt):\n",
    "    print(f\"Your Current Balance: {amt}\")\n",
    "\n",
    "def withdraw(amt):\n",
    "    user_amt=int(input(\"Enter the amount to withdraw: \"))\n",
    "    print(\"Withdrawn Successfully !\")\n",
    "    print(f\" Your current Balance: {amt-user_amt}\")\n",
    "\n",
    "def deposit(amt):\n",
    "    user_amt=int(input(\"Enter the amount to Deposit: \"))\n",
    "    print(\"Deposited Successfully !\")\n",
    "    print(f\" Your current Balance: {amt+user_amt}\")\n",
    "\n",
    "print(\"\\t\\t\\t\\t\\t\\t Welcome To AXIS Bank\")\n",
    "if \"card\" == input(\"Insert your Card: \"):\n",
    "    print(\"Welcome\")\n",
    "    if pin == input(\"Enter Pin:\"):\n",
    "        print(\"Press: \\n\\t\\t\\t\\t\\t\\t 1. Check Balance\\n\\t\\t\\t\\t\\t\\t 2.Withdraw Amount\\n\\t\\t\\t\\t\\t\\t 3. Deposit Amount\")\n",
    "        ch = int(input(\"Enter your choice: \"))\n",
    "        if ch==1:\n",
    "            bal(amt)\n",
    "        elif ch==2:\n",
    "            withdraw(amt)\n",
    "        elif ch==3:\n",
    "            deposit(amt)\n",
    "        else:\n",
    "            print(\"Invalid Option\")\n",
    "    else:\n",
    "        print(\"Wrong Pin\")\n",
    "else:\n",
    "    print(\"Invalid Card\")\n"
   ]
  },
  {
   "cell_type": "code",
   "execution_count": null,
   "id": "7085e10b-e554-4395-a31d-e8a0ebecd581",
   "metadata": {},
   "outputs": [],
   "source": []
  }
 ],
 "metadata": {
  "kernelspec": {
   "display_name": "Python 3 (ipykernel)",
   "language": "python",
   "name": "python3"
  },
  "language_info": {
   "codemirror_mode": {
    "name": "ipython",
    "version": 3
   },
   "file_extension": ".py",
   "mimetype": "text/x-python",
   "name": "python",
   "nbconvert_exporter": "python",
   "pygments_lexer": "ipython3",
   "version": "3.12.4"
  }
 },
 "nbformat": 4,
 "nbformat_minor": 5
}
